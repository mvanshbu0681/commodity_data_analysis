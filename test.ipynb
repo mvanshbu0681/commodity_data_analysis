{
 "cells": [
  {
   "cell_type": "code",
   "execution_count": 3,
   "metadata": {},
   "outputs": [
    {
     "name": "stdout",
     "output_type": "stream",
     "text": [
      "[{'week': 'Week $0', 'modal': 2043.8, 'predicted': 2217}, {'week': 'Week $1', 'modal': 1937.75, 'predicted': 2116}, {'week': 'Week $2', 'modal': 1613.8, 'predicted': 1832}, {'week': 'Week $3', 'modal': 1385.666667, 'predicted': 1507}, {'week': 'Week $4', 'modal': 1453.333333, 'predicted': 1605}, {'week': 'Week $5', 'modal': 1500, 'predicted': 1619}, {'week': 'Week $6', 'modal': 1519.2, 'predicted': 1634}, {'week': 'Week $7', 'modal': 1760.333333, 'predicted': 1982}, {'week': 'Week $8', 'modal': 1562.25, 'predicted': 1748}, {'week': 'Week $9', 'modal': 1601.5, 'predicted': 1828}, {'week': 'Week $10', 'modal': 1766, 'predicted': 1901}, {'week': 'Week $11', 'modal': 1591.6, 'predicted': 1720}, {'week': 'Week $12', 'modal': 1500.25, 'predicted': 1633}, {'week': 'Week $13', 'modal': 1719, 'predicted': 1871}, {'week': 'Week $14', 'modal': 1406, 'predicted': 1594}, {'week': 'Week $15', 'modal': 1562.5, 'predicted': 1669}, {'week': 'Week $16', 'modal': 1614.666667, 'predicted': 1742}, {'week': 'Week $17', 'modal': 1544, 'predicted': 1659}, {'week': 'Week $18', 'modal': 2025.4, 'predicted': 2235}, {'week': 'Week $19', 'modal': 1664, 'predicted': 1791}, {'week': 'Week $20', 'modal': 1531, 'predicted': 1690}, {'week': 'Week $21', 'modal': 1562.333333, 'predicted': 1760}, {'week': 'Week $22', 'modal': 1712.6, 'predicted': 1840}, {'week': 'Week $23', 'modal': 1916.666667, 'predicted': 2108}, {'week': 'Week $24', 'modal': 2125, 'predicted': 2277}, {'week': 'Week $25', 'modal': 2156, 'predicted': 2397}, {'week': 'Week $26', 'modal': 2631.6, 'predicted': 2873}, {'week': 'Week $27', 'modal': 2813, 'predicted': 2926}, {'week': 'Week $28', 'modal': 2695.5, 'predicted': 2869}, {'week': 'Week $29', 'modal': 2812.6, 'predicted': 2982}, {'week': 'Week $30', 'modal': 2906, 'predicted': 3097}, {'week': 'Week $31', 'modal': 2969, 'predicted': 3092}, {'week': 'Week $32', 'modal': 2891, 'predicted': 3115}, {'week': 'Week $33', 'modal': 3328.5, 'predicted': 3525}, {'week': 'Week $34', 'modal': 3438, 'predicted': 3624}]\n"
     ]
    }
   ],
   "source": [
    "total_weeks = 34\n",
    "modal_price = [2043.8, 1937.75, 1613.8, 1385.666667, 1453.333333, 1500, 1519.2, 1760.333333, 1562.25, 1601.5, 1766, 1591.6, 1500.25, 1719, 1406, 1562.5, 1614.666667, 1544, 2025.4, 1664, 1531, 1562.333333, 1712.6, 1916.666667, 2125, 2156, 2631.6, 2813, 2695.5, 2812.6, 2906, 2969, 2891, 3328.5, 3438]\n",
    "predicted = [2217, 2116, 1832, 1507, 1605, 1619, 1634, 1982, 1748, 1828, 1901, 1720, 1633, 1871, 1594, 1669, 1742, 1659, 2235, 1791, 1690, 1760, 1840, 2108, 2277, 2397, 2873, 2926, 2869, 2982, 3097, 3092, 3115, 3525, 3624]\n",
    "\n",
    "x = []\n",
    "\n",
    "for i in range(34+1):\n",
    "  x.append({\"week\": f\"Week ${i}\", \"modal\": modal_price[i], \"predicted\": predicted[i] })\n",
    "  \n",
    "print(x)"
   ]
  }
 ],
 "metadata": {
  "kernelspec": {
   "display_name": "Python 3",
   "language": "python",
   "name": "python3"
  },
  "language_info": {
   "codemirror_mode": {
    "name": "ipython",
    "version": 3
   },
   "file_extension": ".py",
   "mimetype": "text/x-python",
   "name": "python",
   "nbconvert_exporter": "python",
   "pygments_lexer": "ipython3",
   "version": "3.11.7"
  }
 },
 "nbformat": 4,
 "nbformat_minor": 2
}
